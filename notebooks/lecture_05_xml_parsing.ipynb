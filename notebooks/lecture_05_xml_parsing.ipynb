{
 "cells": [
  {
   "cell_type": "code",
   "execution_count": 1,
   "metadata": {
    "collapsed": true
   },
   "outputs": [],
   "source": [
    "import xml.etree.ElementTree as ET"
   ]
  },
  {
   "cell_type": "code",
   "execution_count": 2,
   "metadata": {
    "collapsed": true
   },
   "outputs": [],
   "source": [
    "root = ET.parse('menza.xml') # ElementTree instance"
   ]
  },
  {
   "cell_type": "code",
   "execution_count": 3,
   "metadata": {
    "collapsed": true
   },
   "outputs": [],
   "source": [
    "dates = root.findall('date') # list of elements"
   ]
  },
  {
   "cell_type": "code",
   "execution_count": 16,
   "metadata": {},
   "outputs": [
    {
     "name": "stdout",
     "output_type": "stream",
     "text": [
      "Monday\n",
      "\tPotato flat cakes\n",
      "\t\tpotatoes\n",
      "\t\tflour\n",
      "\t\teggs\n",
      "\tPancakes\n",
      "\t\tmilk\n",
      "\t\tflour\n",
      "\t\teggs\n"
     ]
    }
   ],
   "source": [
    "for date in dates:\n",
    "    print(date.attrib['day'])\n",
    "    meals = iter(date)\n",
    "    for meal in meals:\n",
    "        print('\\t' + meal.attrib['name'])\n",
    "        for ingredient in meal.iterfind('ingredient'):\n",
    "            print('\\t\\t' + ingredient.attrib['name'])"
   ]
  },
  {
   "cell_type": "code",
   "execution_count": null,
   "metadata": {
    "collapsed": true
   },
   "outputs": [],
   "source": []
  }
 ],
 "metadata": {
  "kernelspec": {
   "display_name": "Python 3",
   "language": "python",
   "name": "python3"
  },
  "language_info": {
   "codemirror_mode": {
    "name": "ipython",
    "version": 3
   },
   "file_extension": ".py",
   "mimetype": "text/x-python",
   "name": "python",
   "nbconvert_exporter": "python",
   "pygments_lexer": "ipython3",
   "version": "3.5.3"
  }
 },
 "nbformat": 4,
 "nbformat_minor": 2
}
