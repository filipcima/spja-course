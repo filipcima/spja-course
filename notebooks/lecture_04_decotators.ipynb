{
 "cells": [
  {
   "cell_type": "code",
   "execution_count": 1,
   "metadata": {
    "collapsed": true
   },
   "outputs": [],
   "source": [
    "import datetime\n",
    "import functools"
   ]
  },
  {
   "cell_type": "code",
   "execution_count": 2,
   "metadata": {
    "collapsed": true
   },
   "outputs": [],
   "source": [
    "def test_fun():\n",
    "    print('This is long...')"
   ]
  },
  {
   "cell_type": "code",
   "execution_count": 3,
   "metadata": {},
   "outputs": [
    {
     "name": "stdout",
     "output_type": "stream",
     "text": [
      "This is long...\n"
     ]
    }
   ],
   "source": [
    "test_fun()"
   ]
  },
  {
   "cell_type": "code",
   "execution_count": 4,
   "metadata": {
    "collapsed": true
   },
   "outputs": [],
   "source": [
    "def test_fun():\n",
    "    print(datetime.datetime.now())\n",
    "    print('This is long...')\n",
    "    print(datetime.datetime.now())"
   ]
  },
  {
   "cell_type": "code",
   "execution_count": 5,
   "metadata": {},
   "outputs": [
    {
     "name": "stdout",
     "output_type": "stream",
     "text": [
      "2017-10-16 15:35:54.547013\n",
      "This is long...\n",
      "2017-10-16 15:35:54.547712\n"
     ]
    }
   ],
   "source": [
    "test_fun()"
   ]
  },
  {
   "cell_type": "code",
   "execution_count": 6,
   "metadata": {
    "collapsed": true
   },
   "outputs": [],
   "source": [
    "def logger(f):\n",
    "    def wrapped():\n",
    "        print(datetime.datetime.now())\n",
    "        f()\n",
    "        print(datetime.datetime.now())\n",
    "    return wrapped"
   ]
  },
  {
   "cell_type": "code",
   "execution_count": 7,
   "metadata": {
    "collapsed": true
   },
   "outputs": [],
   "source": [
    "def test_fun():\n",
    "    print('This is long...')"
   ]
  },
  {
   "cell_type": "code",
   "execution_count": 8,
   "metadata": {
    "collapsed": true
   },
   "outputs": [],
   "source": [
    "test_fun = logger(test_fun)"
   ]
  },
  {
   "cell_type": "code",
   "execution_count": 9,
   "metadata": {},
   "outputs": [
    {
     "name": "stdout",
     "output_type": "stream",
     "text": [
      "2017-10-16 15:36:38.730379\n",
      "This is long...\n",
      "2017-10-16 15:36:38.731312\n"
     ]
    }
   ],
   "source": [
    "test_fun()"
   ]
  },
  {
   "cell_type": "code",
   "execution_count": 10,
   "metadata": {
    "collapsed": true
   },
   "outputs": [],
   "source": [
    "@logger\n",
    "def test_fun():\n",
    "    print('This is long...')"
   ]
  },
  {
   "cell_type": "code",
   "execution_count": 11,
   "metadata": {},
   "outputs": [
    {
     "name": "stdout",
     "output_type": "stream",
     "text": [
      "2017-10-16 15:37:01.815528\n",
      "This is long...\n",
      "2017-10-16 15:37:01.815934\n"
     ]
    }
   ],
   "source": [
    "test_fun()"
   ]
  },
  {
   "cell_type": "code",
   "execution_count": 12,
   "metadata": {
    "collapsed": true
   },
   "outputs": [],
   "source": [
    "def logger(f):\n",
    "    def wrapped(*args, **kw):\n",
    "        print(datetime.datetime.now())\n",
    "        f(*args, **kw)\n",
    "        print(datetime.datetime.now())\n",
    "    return wrapped"
   ]
  },
  {
   "cell_type": "code",
   "execution_count": 14,
   "metadata": {
    "collapsed": true
   },
   "outputs": [],
   "source": [
    "@logger\n",
    "def test_fun(greetings):\n",
    "    print('This is long... ' + greetings)"
   ]
  },
  {
   "cell_type": "code",
   "execution_count": 15,
   "metadata": {},
   "outputs": [
    {
     "name": "stdout",
     "output_type": "stream",
     "text": [
      "2017-10-16 15:38:01.810952\n",
      "This is long... SPJA Class\n",
      "2017-10-16 15:38:01.811602\n"
     ]
    }
   ],
   "source": [
    "test_fun('SPJA Class')"
   ]
  },
  {
   "cell_type": "code",
   "execution_count": 16,
   "metadata": {
    "collapsed": true
   },
   "outputs": [],
   "source": [
    "def logger(prefix):\n",
    "    def read_decorator(f):\n",
    "        @functools.wraps(f)\n",
    "        def wrapped(*args, **kw):\n",
    "            print(prefix, datetime.datetime.now())\n",
    "            retval = f(*args, **kw)\n",
    "            print(prefix, datetime.datetime.now())\n",
    "            return retval\n",
    "        return wrapped\n",
    "    return read_decorator"
   ]
  },
  {
   "cell_type": "code",
   "execution_count": 17,
   "metadata": {
    "collapsed": true
   },
   "outputs": [],
   "source": [
    "@logger('My logger prefix:')\n",
    "def test_fun(greetings):\n",
    "    print('This is long... ' + greetings)\n",
    "    return 1"
   ]
  },
  {
   "cell_type": "code",
   "execution_count": 18,
   "metadata": {},
   "outputs": [
    {
     "name": "stdout",
     "output_type": "stream",
     "text": [
      "My logger prefix: 2017-10-16 15:38:31.089887\n",
      "This is long... SPJA Class\n",
      "My logger prefix: 2017-10-16 15:38:31.091101\n",
      "1\n"
     ]
    }
   ],
   "source": [
    "print(test_fun('SPJA Class'))"
   ]
  },
  {
   "cell_type": "code",
   "execution_count": null,
   "metadata": {
    "collapsed": true
   },
   "outputs": [],
   "source": []
  }
 ],
 "metadata": {
  "kernelspec": {
   "display_name": "Python 3",
   "language": "python",
   "name": "python3"
  },
  "language_info": {
   "codemirror_mode": {
    "name": "ipython",
    "version": 3
   },
   "file_extension": ".py",
   "mimetype": "text/x-python",
   "name": "python",
   "nbconvert_exporter": "python",
   "pygments_lexer": "ipython3",
   "version": "3.5.3"
  }
 },
 "nbformat": 4,
 "nbformat_minor": 2
}
