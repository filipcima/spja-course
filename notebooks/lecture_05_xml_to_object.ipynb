{
 "cells": [
  {
   "cell_type": "code",
   "execution_count": 2,
   "metadata": {},
   "outputs": [],
   "source": [
    "xml_str = '''<?xml version=\"1.0\" encoding=\"UTF-8\"?>\n",
    "<menza>\n",
    "    <date day=\"Monday\">\n",
    "        <meal name=\"Potato flat cakes\">\n",
    "            <ingredient name=\"potatoes\"/>\n",
    "            <ingredient name=\"flour\"/>\n",
    "            <ingredient name=\"eggs\"/>\n",
    "        </meal>\n",
    "        <meal name=\"Pancakes\">\n",
    "            <ingredient name=\"milk\"/>\n",
    "            <ingredient name=\"flour\"/>\n",
    "            <ingredient name=\"eggs\"/>\n",
    "        </meal>\n",
    "    </date>\n",
    "</menza>'''"
   ]
  },
  {
   "cell_type": "code",
   "execution_count": 3,
   "metadata": {
    "collapsed": true
   },
   "outputs": [],
   "source": [
    "import xml.etree.ElementTree as ET"
   ]
  },
  {
   "cell_type": "code",
   "execution_count": 5,
   "metadata": {
    "collapsed": true
   },
   "outputs": [],
   "source": [
    "def xml2py(node):\n",
    "    name = node.tag\n",
    "\n",
    "    pytype = type(name, (object, ), {})\n",
    "    pyobj = pytype()\n",
    "\n",
    "    for attr in node.attrib.keys():\n",
    "        setattr(pyobj, attr, node.get(attr))\n",
    "\n",
    "    if node.text and node.text != '' and node.text != ' ' and node.text != '\\n':\n",
    "        setattr(pyobj, 'text', node.text)\n",
    "\n",
    "    for cn in node:\n",
    "        if not hasattr(pyobj, cn.tag):\n",
    "            setattr(pyobj, cn.tag, [])\n",
    "        getattr(pyobj, cn.tag).append(xml2py(cn))\n",
    "\n",
    "    return pyobj"
   ]
  },
  {
   "cell_type": "code",
   "execution_count": 7,
   "metadata": {},
   "outputs": [],
   "source": [
    "menza_xml_tree = ET.fromstring(xml_str)"
   ]
  },
  {
   "cell_type": "code",
   "execution_count": 8,
   "metadata": {
    "collapsed": true
   },
   "outputs": [],
   "source": [
    "obj = xml2py(menza_xml_tree)"
   ]
  },
  {
   "cell_type": "code",
   "execution_count": 10,
   "metadata": {},
   "outputs": [
    {
     "name": "stdout",
     "output_type": "stream",
     "text": [
      "Monday\n",
      "\t Potato flat cakes\n",
      "\t\t potatoes\n",
      "\t\t flour\n",
      "\t\t eggs\n",
      "\t Pancakes\n",
      "\t\t milk\n",
      "\t\t flour\n",
      "\t\t eggs\n"
     ]
    }
   ],
   "source": [
    "for date in obj.date:\n",
    "    print(date.day)\n",
    "    for meal in date.meal:\n",
    "        print('\\t', meal.name)\n",
    "        for ingredient in meal.ingredient:\n",
    "            print('\\t\\t', ingredient.name)"
   ]
  },
  {
   "cell_type": "code",
   "execution_count": null,
   "metadata": {
    "collapsed": true
   },
   "outputs": [],
   "source": []
  }
 ],
 "metadata": {
  "kernelspec": {
   "display_name": "Python 3",
   "language": "python",
   "name": "python3"
  },
  "language_info": {
   "codemirror_mode": {
    "name": "ipython",
    "version": 3
   },
   "file_extension": ".py",
   "mimetype": "text/x-python",
   "name": "python",
   "nbconvert_exporter": "python",
   "pygments_lexer": "ipython3",
   "version": "3.5.3"
  }
 },
 "nbformat": 4,
 "nbformat_minor": 2
}
